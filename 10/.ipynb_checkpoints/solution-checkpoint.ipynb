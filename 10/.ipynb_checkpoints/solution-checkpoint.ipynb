{
 "cells": [
  {
   "cell_type": "code",
   "execution_count": 11,
   "metadata": {},
   "outputs": [],
   "source": [
    "import re\n",
    "\n",
    "import pandas as pd\n",
    "import numpy as np\n",
    "import seaborn as sns\n",
    "\n",
    "import matplotlib.pyplot as plt\n",
    "%matplotlib inline"
   ]
  },
  {
   "cell_type": "code",
   "execution_count": 12,
   "metadata": {},
   "outputs": [
    {
     "data": {
      "text/html": [
       "<div>\n",
       "<style scoped>\n",
       "    .dataframe tbody tr th:only-of-type {\n",
       "        vertical-align: middle;\n",
       "    }\n",
       "\n",
       "    .dataframe tbody tr th {\n",
       "        vertical-align: top;\n",
       "    }\n",
       "\n",
       "    .dataframe thead th {\n",
       "        text-align: right;\n",
       "    }\n",
       "</style>\n",
       "<table border=\"1\" class=\"dataframe\">\n",
       "  <thead>\n",
       "    <tr style=\"text-align: right;\">\n",
       "      <th></th>\n",
       "      <th>5</th>\n",
       "      <th>6</th>\n",
       "    </tr>\n",
       "  </thead>\n",
       "  <tbody>\n",
       "    <tr>\n",
       "      <th>-7</th>\n",
       "      <td>2.0</td>\n",
       "      <td>NaN</td>\n",
       "    </tr>\n",
       "    <tr>\n",
       "      <th>4</th>\n",
       "      <td>NaN</td>\n",
       "      <td>2.0</td>\n",
       "    </tr>\n",
       "  </tbody>\n",
       "</table>\n",
       "</div>"
      ],
      "text/plain": [
       "      5    6\n",
       "-7  2.0  NaN\n",
       " 4  NaN  2.0"
      ]
     },
     "execution_count": 12,
     "metadata": {},
     "output_type": "execute_result"
    }
   ],
   "source": [
    "test = pd.DataFrame()\n",
    "test.loc[-7, 5] = 2\n",
    "test.loc[4, 6] = 2\n",
    "test.head()"
   ]
  },
  {
   "cell_type": "code",
   "execution_count": 13,
   "metadata": {},
   "outputs": [],
   "source": [
    "test.rename(index={i: i for i in range(-8, 5)}, inplace=True)"
   ]
  },
  {
   "cell_type": "code",
   "execution_count": 14,
   "metadata": {},
   "outputs": [
    {
     "data": {
      "text/html": [
       "<div>\n",
       "<style scoped>\n",
       "    .dataframe tbody tr th:only-of-type {\n",
       "        vertical-align: middle;\n",
       "    }\n",
       "\n",
       "    .dataframe tbody tr th {\n",
       "        vertical-align: top;\n",
       "    }\n",
       "\n",
       "    .dataframe thead th {\n",
       "        text-align: right;\n",
       "    }\n",
       "</style>\n",
       "<table border=\"1\" class=\"dataframe\">\n",
       "  <thead>\n",
       "    <tr style=\"text-align: right;\">\n",
       "      <th></th>\n",
       "      <th>5</th>\n",
       "      <th>6</th>\n",
       "    </tr>\n",
       "  </thead>\n",
       "  <tbody>\n",
       "    <tr>\n",
       "      <th>-7</th>\n",
       "      <td>2.0</td>\n",
       "      <td>NaN</td>\n",
       "    </tr>\n",
       "    <tr>\n",
       "      <th>4</th>\n",
       "      <td>NaN</td>\n",
       "      <td>2.0</td>\n",
       "    </tr>\n",
       "  </tbody>\n",
       "</table>\n",
       "</div>"
      ],
      "text/plain": [
       "      5    6\n",
       "-7  2.0  NaN\n",
       " 4  NaN  2.0"
      ]
     },
     "execution_count": 14,
     "metadata": {},
     "output_type": "execute_result"
    }
   ],
   "source": [
    "test.head()"
   ]
  },
  {
   "cell_type": "code",
   "execution_count": 15,
   "metadata": {},
   "outputs": [],
   "source": [
    "coords = list()\n",
    "with open('./input.txt') as f:\n",
    "    for line in f.read().splitlines():\n",
    "        m = re.match(r'\\w+=<(?P<p_x>[\\s\\-0-9]+),(?P<p_y>[\\s\\-0-9]+)>.*<(?P<v_x>[\\s\\-0-9]+),(?P<v_y>[\\s\\-0-9]+)>', line)\n",
    "        \n",
    "        p_x, p_y, v_x, v_y = int(m.group('p_x').strip()), int(m.group('p_y').strip()), int(m.group('v_x').strip()), int(m.group('v_y').strip())\n",
    "        \n",
    "        coords.append([p_x, p_y, v_x, v_y])"
   ]
  },
  {
   "cell_type": "code",
   "execution_count": 16,
   "metadata": {},
   "outputs": [
    {
     "data": {
      "text/plain": [
       "[[20168, 40187, -2, -4],\n",
       " [-39906, -49878, 4, 5],\n",
       " [30186, 10170, -3, -1],\n",
       " [30150, 50195, -3, -5],\n",
       " [50184, 40190, -5, -4]]"
      ]
     },
     "execution_count": 16,
     "metadata": {},
     "output_type": "execute_result"
    }
   ],
   "source": [
    "coords[:5]"
   ]
  },
  {
   "cell_type": "code",
   "execution_count": 17,
   "metadata": {},
   "outputs": [],
   "source": [
    "class Star(object):\n",
    "    def __init__(self, p_x, p_y, v_x, v_y):\n",
    "        self.p_x = p_x\n",
    "        self.p_y = p_y\n",
    "        self.v_x = v_x\n",
    "        self.v_y = v_y\n",
    "\n",
    "    def increase_sec(self):\n",
    "        self.p_x += self.v_x\n",
    "        self.p_y += self.v_y\n",
    "\n",
    "    def coord(self):\n",
    "        return self.p_x, self.p_y\n",
    "\n",
    "\n",
    "class NightSky(object):\n",
    "    def __init__(self, stars):\n",
    "        self.stars = stars\n",
    "\n",
    "    def increase_sec(self):\n",
    "        for star in self.stars:\n",
    "            star.increase_sec()\n",
    "\n",
    "    def paint_the_sky(self):\n",
    "        index, columns = self._get_sky_dimensions()\n",
    "        \n",
    "        sky = pd.DataFrame(np.full((len(index), len(columns)), fill_value=np.nan))\n",
    "        \n",
    "        sky.rename(index={i: str(index[i]) for i in range(len(index))}, inplace=True)\n",
    "        sky.columns = [str(i) for i in columns]\n",
    "\n",
    "        for star in self.stars:\n",
    "            x, y = star.coord()\n",
    "\n",
    "            sky.loc[str(x), str(y)] = 9\n",
    "\n",
    "        return sky\n",
    "\n",
    "    def _get_sky_dimensions(self):\n",
    "        min_x, min_y, max_x, max_y = 0, 0, 0, 0\n",
    "        \n",
    "        for ind, star in enumerate(self.stars):\n",
    "            if not ind:\n",
    "                min_x, min_y, max_x, max_y = star.p_x, star.p_y, star.p_x, star.p_y\n",
    "\n",
    "            else:\n",
    "                if star.p_x < min_x:\n",
    "                    min_x = star.p_x\n",
    "\n",
    "                if star.p_y < min_y:\n",
    "                    min_y = star.p_y\n",
    "\n",
    "                if star.p_x > max_x:\n",
    "                    max_x = star.p_x\n",
    "\n",
    "                if star.p_x > max_y:\n",
    "                    max_y = star.p_y\n",
    "                    \n",
    "        index = list(range(min_x - 1, max_x + 1))\n",
    "        columns = list(range(min_y - 1, max_y + 1))\n",
    "        \n",
    "        return index, columns\n",
    "    \n",
    "    def get_star_shape_over_time(self, sec_range=5):\n",
    "        sec, axis, shape = list(), list(), list()\n",
    "        \n",
    "        for i in range(sec_range):\n",
    "            index, columns = self._get_sky_dimensions()\n",
    "            \n",
    "            sec.extend([i, i])\n",
    "            axis.extend(['x', 'y'])\n",
    "            shape.extend([len(index), len(columns)])\n",
    "            \n",
    "            self.increase_sec()\n",
    "            \n",
    "        return pd.DataFrame(data={'sec': sec, 'axis': axis, 'shape': shape})"
   ]
  },
  {
   "cell_type": "code",
   "execution_count": 18,
   "metadata": {},
   "outputs": [],
   "source": [
    "night_sky = NightSky([Star(*star) for star in coords])"
   ]
  },
  {
   "cell_type": "markdown",
   "metadata": {},
   "source": [
    "something I found out pretty quickly is that the sky is really big. \n",
    "In the examples.. The message matrix was the smallest shape.\n",
    "So, I need to do a little pre-digging to figure out the second range is with the smallest shapes. "
   ]
  },
  {
   "cell_type": "code",
   "execution_count": 20,
   "metadata": {},
   "outputs": [
    {
     "data": {
      "image/png": "[encoded data removed]",
      "text/plain": [
       "<Figure size 432x288 with 1 Axes>"
      ]
     },
     "metadata": {
      "needs_background": "light"
     },
     "output_type": "display_data"
    }
   ],
   "source": [
    "star_shape = night_sky.get_star_shape_over_time(sec_range=11000)\n",
    "\n",
    "ax = sns.lineplot(x=\"sec\", y=\"shape\", hue=\"axis\",\n",
    "                   data=star_shape)\n",
    "plt.show();"
   ]
  },
  {
   "cell_type": "code",
   "execution_count": 9,
   "metadata": {},
   "outputs": [
    {
     "data": {
      "image/png": "[encoded data removed]",
      "text/plain": [
       "<Figure size 288x389.647 with 1 Axes>"
      ]
     },
     "metadata": {
      "needs_background": "light"
     },
     "output_type": "display_data"
    }
   ],
   "source": [
    "current_sky = night_sky.paint_the_sky()\n",
    "\n",
    "plt.matshow(current_sky)\n",
    "plt.title('Original sky');"
   ]
  },
  {
   "cell_type": "code",
   "execution_count": 10,
   "metadata": {},
   "outputs": [
    {
     "data": {
      "image/png": "[encoded data removed]",
      "text/plain": [
       "<Figure size 288x420.923 with 1 Axes>"
      ]
     },
     "metadata": {
      "needs_background": "light"
     },
     "output_type": "display_data"
    },
    {
     "data": {
      "image/png": "[encoded data removed]",
      "text/plain": [
       "<Figure size 288x392.727 with 1 Axes>"
      ]
     },
     "metadata": {
      "needs_background": "light"
     },
     "output_type": "display_data"
    },
    {
     "data": {
      "image/png": "[encoded data removed]",
      "text/plain": [
       "<Figure size 288x352 with 1 Axes>"
      ]
     },
     "metadata": {
      "needs_background": "light"
     },
     "output_type": "display_data"
    },
    {
     "data": {
      "image/png": "[encoded data removed]",
      "text/plain": [
       "<Figure size 288x336 with 1 Axes>"
      ]
     },
     "metadata": {
      "needs_background": "light"
     },
     "output_type": "display_data"
    },
    {
     "data": {
      "image/png": "[encoded data removed]",
      "text/plain": [
       "<Figure size 288x345.6 with 1 Axes>"
      ]
     },
     "metadata": {
      "needs_background": "light"
     },
     "output_type": "display_data"
    }
   ],
   "source": [
    "for i in range(5):\n",
    "    night_sky.increase_sec()\n",
    "    \n",
    "    current_sky = night_sky.paint_the_sky()\n",
    "    plt.matshow(current_sky)\n",
    "    plt.savefig(f'plot{i}.png');"
   ]
  },
  {
   "cell_type": "markdown",
   "metadata": {},
   "source": [
    "-49918 -49879 50211 50193\n",
    "\n",
    "100131 100074"
   ]
  },
  {
   "cell_type": "code",
   "execution_count": null,
   "metadata": {},
   "outputs": [],
   "source": []
  }
 ],
 "metadata": {
  "kernelspec": {
   "display_name": "Python 3",
   "language": "python",
   "name": "python3"
  },
  "language_info": {
   "codemirror_mode": {
    "name": "ipython",
    "version": 3
   },
   "file_extension": ".py",
   "mimetype": "text/x-python",
   "name": "python",
   "nbconvert_exporter": "python",
   "pygments_lexer": "ipython3",
   "version": "3.6.5"
  }
 },
 "nbformat": 4,
 "nbformat_minor": 2
}
