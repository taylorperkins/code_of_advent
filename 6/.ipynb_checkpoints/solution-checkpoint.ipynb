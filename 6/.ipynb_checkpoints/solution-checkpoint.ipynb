{
 "cells": [
  {
   "cell_type": "markdown",
   "metadata": {},
   "source": [
    "Had to figure out what the Manhattan Distance was at first.. and I will be using an example forrmula as described [here](https://math.stackexchange.com/questions/139600/how-do-i-calculate-euclidean-and-manhattan-distance-by-hand#answer-139604)\n",
    "\n",
    "```\n",
    "Given (a, b) and (c, d)..\n",
    "M = |a−c| + |b−d|\n",
    "```"
   ]
  },
  {
   "cell_type": "code",
   "execution_count": 1,
   "metadata": {},
   "outputs": [],
   "source": [
    "def manhattan_distance(coord_1, coord_2):\n",
    "    a, b = coord_1\n",
    "    c, d = coord_2\n",
    "    \n",
    "    return sum([abs(a - c), abs(b - d)])"
   ]
  },
  {
   "cell_type": "code",
   "execution_count": 2,
   "metadata": {},
   "outputs": [],
   "source": [
    "# let's try it\n",
    "print(manhattan_distance((1, 1), (2, 2)))\n",
    "print(manhattan_distance((1, 1), (3, 3)))"
   ]
  },
  {
   "cell_type": "markdown",
   "metadata": {},
   "source": [
    "_**d-o-p-e**_"
   ]
  },
  {
   "cell_type": "code",
   "execution_count": 3,
   "metadata": {},
   "outputs": [],
   "source": [
    "from collections import defaultdict\n",
    "\n",
    "import pandas as pd # this will be nice to help view the data\n",
    "import numpy as np\n",
    "\n",
    "import matplotlib.pyplot as plt\n",
    "%matplotlib inline"
   ]
  },
  {
   "cell_type": "code",
   "execution_count": 4,
   "metadata": {},
   "outputs": [],
   "source": [
    "plt.rcParams['figure.figsize'] = (20.0, 10.0)"
   ]
  },
  {
   "cell_type": "code",
   "execution_count": 5,
   "metadata": {},
   "outputs": [],
   "source": [
    "# the coords in the dataset are as (x, y) but I want it as (y, x) or (row, col)\n",
    "with open('./input.txt') as f:\n",
    "    coords = [tuple(map(int, [*coord.split(', ')][::-1])) for coord in f.read().splitlines()]"
   ]
  },
  {
   "cell_type": "code",
   "execution_count": 6,
   "metadata": {},
   "outputs": [
    {
     "data": {
      "text/plain": [
       "[(246, 355),\n",
       " (215, 259),\n",
       " (247, 166),\n",
       " (341, 280),\n",
       " (91, 54),\n",
       " (209, 314),\n",
       " (272, 256),\n",
       " (313, 149),\n",
       " (274, 217),\n",
       " (144, 299)]"
      ]
     },
     "execution_count": 6,
     "metadata": {},
     "output_type": "execute_result"
    }
   ],
   "source": [
    "coords[:10]"
   ]
  },
  {
   "cell_type": "code",
   "execution_count": 7,
   "metadata": {},
   "outputs": [
    {
     "data": {
      "text/plain": [
       "(356, 343)"
      ]
     },
     "execution_count": 7,
     "metadata": {},
     "output_type": "execute_result"
    }
   ],
   "source": [
    "# I want to create a dataframe with nxm dimensions based on the outline of the datapoints\n",
    "max_col, max_row = int(), int()\n",
    "\n",
    "for row, col in coords:\n",
    "    if col > max_col:\n",
    "        max_col = col\n",
    "        \n",
    "    if row > max_row:\n",
    "        max_row = row\n",
    "        \n",
    "max_col += 1\n",
    "max_row += 1\n",
    "\n",
    "max_col, max_row"
   ]
  },
  {
   "cell_type": "code",
   "execution_count": 8,
   "metadata": {},
   "outputs": [
    {
     "data": {
      "text/plain": [
       "(343, 356)"
      ]
     },
     "execution_count": 8,
     "metadata": {},
     "output_type": "execute_result"
    }
   ],
   "source": [
    "# This create a dataframe based on a shape, filled with defaults\n",
    "chronal_df = pd.DataFrame(np.full((max_row, max_col), -1))\n",
    "chronal_df.shape"
   ]
  },
  {
   "cell_type": "code",
   "execution_count": 9,
   "metadata": {},
   "outputs": [
    {
     "data": {
      "image/png": "[encoded data removed]",
      "text/plain": [
       "<Figure size 747.289x720 with 1 Axes>"
      ]
     },
     "metadata": {
      "needs_background": "light"
     },
     "output_type": "display_data"
    }
   ],
   "source": [
    "# put in the original coordinates to show where they will ultimately be\n",
    "for ind, (row, col) in enumerate(coords):\n",
    "    chronal_df.at[row, col] = ind\n",
    "    \n",
    "plt.matshow(chronal_df)\n",
    "plt.title('Original coordinates');"
   ]
  },
  {
   "cell_type": "code",
   "execution_count": 10,
   "metadata": {},
   "outputs": [],
   "source": [
    "def get_closest_point(coord, coords):\n",
    "    \"\"\"method that finds the index of the closest point of a coord based on a list of coords\"\"\"\n",
    "    manhattan_distances = [manhattan_distance(coord, x) for x in coords]\n",
    "    min_dist = min(manhattan_distances)\n",
    "    \n",
    "    min_indices = [ind for ind, val in enumerate(manhattan_distances) if val == min_dist]\n",
    "    \n",
    "    # if there are points that are equidistant away, dont assign anything\n",
    "    if len(min_indices) > 1:\n",
    "        return -1\n",
    "    return min_indices[0]"
   ]
  },
  {
   "cell_type": "code",
   "execution_count": 11,
   "metadata": {},
   "outputs": [],
   "source": [
    "# get the sq_inch count and figure out which categories live on an edge. \n",
    "# We will exclude all edge categories later on\n",
    "sq_inch_cnt = defaultdict(int)\n",
    "edge_categories = set()\n",
    "\n",
    "for col in range(max_col):\n",
    "    for row in range(max_row):\n",
    "        if (row, col) in coords:\n",
    "            sq_inch_cnt[ind] += 1\n",
    "            \n",
    "        else:\n",
    "            ind = get_closest_point((row, col), coords)\n",
    "            chronal_df.at[row, col] = ind\n",
    "            \n",
    "            if ind != -1:\n",
    "                sq_inch_cnt[ind] += 1\n",
    "            \n",
    "                if any([\n",
    "                    row in [0, max_row], \n",
    "                    col in [0, max_col]\n",
    "                ]):\n",
    "                    edge_categories.add(ind)"
   ]
  },
  {
   "cell_type": "code",
   "execution_count": 12,
   "metadata": {},
   "outputs": [
    {
     "data": {
      "image/png": "[encoded data removed]",
      "text/plain": [
       "<Figure size 747.289x720 with 1 Axes>"
      ]
     },
     "metadata": {
      "needs_background": "light"
     },
     "output_type": "display_data"
    }
   ],
   "source": [
    "plt.matshow(chronal_df);"
   ]
  },
  {
   "cell_type": "code",
   "execution_count": 13,
   "metadata": {},
   "outputs": [
    {
     "name": "stdout",
     "output_type": "stream",
     "text": [
      "29: 3238\n",
      "47: 3222\n",
      "1: 3036\n",
      "49: 2598\n",
      "41: 2571\n",
      "2: 2198\n",
      "30: 2094\n",
      "5: 2073\n",
      "6: 1999\n",
      "18: 1996\n",
      "20: 1982\n",
      "12: 1962\n",
      "27: 1947\n",
      "45: 1932\n",
      "39: 1888\n",
      "35: 1879\n",
      "43: 1865\n",
      "7: 1723\n",
      "8: 1715\n",
      "14: 1582\n",
      "38: 1521\n",
      "9: 1493\n",
      "15: 1367\n",
      "19: 1359\n",
      "23: 1297\n",
      "36: 1129\n",
      "37: 1103\n",
      "44: 1030\n",
      "22: 1024\n",
      "34: 971\n",
      "25: 837\n",
      "0: 674\n",
      "3: 595\n",
      "28: 265\n"
     ]
    }
   ],
   "source": [
    "# Top one is the answer\n",
    "for ind, cnt in sorted(sq_inch_cnt.items(), key=lambda x: x[1], reverse=True):\n",
    "    if ind not in edge_categories:\n",
    "        print(f'{ind}: {cnt}')"
   ]
  },
  {
   "cell_type": "code",
   "execution_count": null,
   "metadata": {},
   "outputs": [],
   "source": []
  }
 ],
 "metadata": {
  "kernelspec": {
   "display_name": "Python 3",
   "language": "python",
   "name": "python3"
  },
  "language_info": {
   "codemirror_mode": {
    "name": "ipython",
    "version": 3
   },
   "file_extension": ".py",
   "mimetype": "text/x-python",
   "name": "python",
   "nbconvert_exporter": "python",
   "pygments_lexer": "ipython3",
   "version": "3.6.5"
  }
 },
 "nbformat": 4,
 "nbformat_minor": 2
}
